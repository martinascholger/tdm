{
 "cells": [
  {
   "cell_type": "markdown",
   "id": "be2f265b",
   "metadata": {},
   "source": [
    "### XML-Datei laden und Dataframe erstellen"
   ]
  },
  {
   "cell_type": "markdown",
   "id": "fcad1828",
   "metadata": {},
   "source": [
    "XML (Extensible Markup Language) ist ein Datenformat, das meist zur Annotation von unstrukturierten und semi-strukturierten Daten verwendet und mit XSLT oder XQuery weiterverarbeitet wird. Dieses Notebook zeigt, wie XML-Dateien mit Python verarbeitet eingelesen und weiterverarbeitet werden können. Es fokussiert auf die Extraktion von strukturierten Daten aus der XML-Datei und die Verarbeitung eines Dataframes. Es stellt eine alternative Methode zur Extraktion von strukturierten Daten mittels XSLT dar.\n",
    "\n",
    "Eine umfassende Einführung in die Verarbeitung von XML-Daten mit Python finden Sie bei Gunter Vasold: https://github.com/gvasold/gdp/blob/main/05-texte/03-xml.ipynb\n",
    "\n",
    "\n",
    "Zur Verarbeitung von XML stehen in der Standardbibliothek die XML-Bibliotheken **dom.sax**, **xml.dom.minidom**, **xml.dom.pulldom** und **xml.etreeElementTree** zur Verfügung. \n",
    "Wir verwenden die Zusatzbibliothek `lxml` (http://lxml.de/). `lxml` ist eine Bibliothek zum Parsen und Interagieren von XML-Daten. Im unterschied zu `xml.etreeElementTree` ist XPath (die Abfragesprache für XML-Daten) in `lxml`vollständig implementiert. "
   ]
  },
  {
   "cell_type": "code",
   "execution_count": 1,
   "id": "b5cc65f0",
   "metadata": {},
   "outputs": [],
   "source": [
    "from lxml import etree\n",
    "import pandas as pd"
   ]
  },
  {
   "cell_type": "markdown",
   "id": "7a6e0267",
   "metadata": {},
   "source": [
    "Nach dem Import der notwendigen Module wird der Pfad zur XML-Datei angegeben und die Funktion `etree.parse` aus `lxml` verwendet, um die Datei in eine Baumstruktur zu laden, in der navigiert und Abfragen generiert werden können. "
   ]
  },
  {
   "cell_type": "code",
   "execution_count": 2,
   "id": "e6eac80e",
   "metadata": {},
   "outputs": [],
   "source": [
    "tree = etree.parse('ger000244-gottsched-der-sterbende-cato.xml')"
   ]
  },
  {
   "cell_type": "markdown",
   "id": "8a4ef4bc",
   "metadata": {},
   "source": [
    "Um im Baum navigieren zu können, wird zunächst die Wurzel ermittelt:"
   ]
  },
  {
   "cell_type": "code",
   "execution_count": 3,
   "id": "a6446868",
   "metadata": {},
   "outputs": [],
   "source": [
    "root = tree.getroot()"
   ]
  },
  {
   "cell_type": "code",
   "execution_count": 4,
   "id": "88c2ac9d",
   "metadata": {},
   "outputs": [
    {
     "data": {
      "text/plain": [
       "'{http://www.tei-c.org/ns/1.0}TEI'"
      ]
     },
     "execution_count": 4,
     "metadata": {},
     "output_type": "execute_result"
    }
   ],
   "source": [
    "root.tag"
   ]
  },
  {
   "cell_type": "markdown",
   "id": "0efc4615",
   "metadata": {},
   "source": [
    "Den Textinhalt von root ausgeben (das ist in diesem Fall nur ein Zeilenumbruch)"
   ]
  },
  {
   "cell_type": "code",
   "execution_count": 5,
   "id": "b6de6844",
   "metadata": {},
   "outputs": [
    {
     "data": {
      "text/plain": [
       "'\\n  '"
      ]
     },
     "execution_count": 5,
     "metadata": {},
     "output_type": "execute_result"
    }
   ],
   "source": [
    "root.text"
   ]
  },
  {
   "cell_type": "markdown",
   "id": "234dcff2",
   "metadata": {},
   "source": [
    "Attribute von root ausgeben"
   ]
  },
  {
   "cell_type": "code",
   "execution_count": 6,
   "id": "de598e15",
   "metadata": {},
   "outputs": [
    {
     "data": {
      "text/plain": [
       "{'{http://www.w3.org/XML/1998/namespace}id': 'ger000244', '{http://www.w3.org/XML/1998/namespace}lang': 'ger'}"
      ]
     },
     "execution_count": 6,
     "metadata": {},
     "output_type": "execute_result"
    }
   ],
   "source": [
    "root.attrib"
   ]
  },
  {
   "cell_type": "markdown",
   "id": "31f4ae89",
   "metadata": {},
   "source": [
    "Direkte Kindelemente von root ausgeben"
   ]
  },
  {
   "cell_type": "code",
   "execution_count": 7,
   "id": "7353dc31",
   "metadata": {},
   "outputs": [
    {
     "name": "stdout",
     "output_type": "stream",
     "text": [
      "<Element {http://www.tei-c.org/ns/1.0}teiHeader at 0x257ff53d400>\n",
      "<Element {http://www.tei-c.org/ns/1.0}standOff at 0x25797561000>\n",
      "<Element {http://www.tei-c.org/ns/1.0}text at 0x25797562440>\n"
     ]
    }
   ],
   "source": [
    "for child in root:\n",
    "    print(child)"
   ]
  },
  {
   "cell_type": "markdown",
   "id": "8ff95e2a",
   "metadata": {},
   "source": [
    "Die XML-Datei verwendet Namensräume; dieser muss entsprechend angegeben werden, um die Elemente überhaupt finden zu können. "
   ]
  },
  {
   "cell_type": "code",
   "execution_count": 11,
   "id": "f203a22c",
   "metadata": {},
   "outputs": [],
   "source": [
    "nsmap = {'tei': 'http://www.tei-c.org/ns/1.0'}"
   ]
  },
  {
   "cell_type": "markdown",
   "id": "601dd0fc",
   "metadata": {},
   "source": [
    "Um in der XML-Struktur navigierten zu können, wird XPath verwendet. Der XPath `//tei:sp/tei:speaker` findet alle Sprecher:innen, die mit dem Element `<speaker>` ausgezeichnet wurden.   "
   ]
  },
  {
   "cell_type": "code",
   "execution_count": 12,
   "id": "3496769f",
   "metadata": {},
   "outputs": [
    {
     "name": "stdout",
     "output_type": "stream",
     "text": [
      "ARSENE.\n",
      "PHÖNICE.\n",
      "ARSENE.\n",
      "PHÖNICE.\n",
      "ARSENE.\n",
      "PHÖNICE.\n",
      "ARSENE.\n",
      "PHÖNICE.\n",
      "ARSENE.\n",
      "CATO.\n",
      "ARSENE.\n",
      "CATO.\n",
      "ARSENE.\n",
      "CATO.\n",
      "ARSENE.\n",
      "CATO.\n",
      "ARSENE.\n",
      "CATO\n",
      "PHOKAS.\n",
      "CATO.\n",
      "PHOKAS.\n",
      "CATO.\n",
      "PHOKAS.\n",
      "ARTABANUS.\n",
      "CATO\n",
      "ARTABANUS.\n",
      "CATO.\n",
      "PHOKAS.\n",
      "CATO.\n",
      "PHOKAS.\n",
      "CATO.\n",
      "CATO.\n",
      "PHARNACES.\n",
      "CATO.\n",
      "PHARNACES.\n",
      "CATO.\n",
      "PHARNACES.\n",
      "CATO.\n",
      "PHARNACES.\n",
      "CATO.\n",
      "PHARNACES.\n",
      "CATO.\n",
      "PHARNACES.\n",
      "CATO.\n",
      "FELIX.\n",
      "CATO.\n",
      "PHARNACES.\n",
      "FELIX.\n",
      "PHARNACES.\n",
      "FELIX.\n",
      "PHARNACES.\n",
      "FELIX.\n",
      "PHARNACES.\n",
      "DOMITIUS.\n",
      "PHOKAS.\n",
      "DOMITIUS.\n",
      "PHOKAS.\n",
      "DOMITIUS.\n",
      "CATO.\n",
      "DOMITIUS.\n",
      "CATO.\n",
      "DOMITIUS.\n",
      "CATO.\n",
      "DOMITIUS.\n",
      "CATO.\n",
      "DOMITIUS.\n",
      "CATO.\n",
      "DOMITIUS.\n",
      "CATO.\n",
      "DOMITIUS.\n",
      "CATO.\n",
      "ARSENE.\n",
      "DOMITIUS.\n",
      "ARSENE.\n",
      "PHARNACES.\n",
      "ARSENE.\n",
      "PHARNACES\n",
      "ARSENE.\n",
      "PHARNACES.\n",
      "ARSENE.\n",
      "PHARNACES.\n",
      "PORCIUS.\n",
      "ARSENE.\n",
      "PORCIUS.\n",
      "PHARNACES.\n",
      "PORCIUS.\n",
      "PHARNACES.\n",
      "PORCIUS.\n",
      "PHARNACES.\n",
      "PORCIUS.\n",
      "PHARNACES.\n",
      "PORCIUS.\n",
      "PHARNACES.\n",
      "PHARNACES.\n",
      "FELIX.\n",
      "PHARNACES.\n",
      "FELIX.\n",
      "PHARNACES.\n",
      "FELIX.\n",
      "PHARNACES.\n",
      "FELIX.\n",
      "PHARNACES.\n",
      "FELIX.\n",
      "PHARNACES.\n",
      "FELIX.\n",
      "PHARNACES.\n",
      "CÄSAR.\n",
      "DOMITIUS.\n",
      "CÄSAR.\n",
      "DOMITIUS.\n",
      "CÄSAR.\n",
      "DOMITIUS.\n",
      "CÄSAR.\n",
      "ARSENE\n",
      "CÄSAR.\n",
      "ARSENE.\n",
      "CÄSAR.\n",
      "ARSENE.\n",
      "CÄSAR.\n",
      "ARSENE.\n",
      "CÄSAR.\n",
      "ARSENE.\n",
      "CÄSAR.\n",
      "ARSENE.\n",
      "CÄSAR.\n",
      "ARSENE.\n",
      "CÄSAR.\n",
      "CÄSAR.\n",
      "CATO.\n",
      "CÄSAR.\n",
      "CATO.\n",
      "CÄSAR.\n",
      "CATO.\n",
      "CÄSAR.\n",
      "CATO.\n",
      "CÄSAR.\n",
      "CATO.\n",
      "CÄSAR.\n",
      "CATO.\n",
      "CÄSAR.\n",
      "CATO.\n",
      "CÄSAR.\n",
      "CÄSAR.\n",
      "CATO.\n",
      "CÄSAR.\n",
      "CATO.\n",
      "CÄSAR.\n",
      "CATO.\n",
      "CÄSAR.\n",
      "CATO.\n",
      "CÄSAR.\n",
      "PHARNACES.\n",
      "CÄSAR.\n",
      "PHARNACES.\n",
      "CATO.\n",
      "PORCIUS.\n",
      "CATO.\n",
      "PORCIUS.\n",
      "CATO.\n",
      "PORCIUS.\n",
      "CATO.\n",
      "PORCIUS.\n",
      "CATO.\n",
      "PORCIUS.\n",
      "CATO.\n",
      "ARSENE.\n",
      "CATO.\n",
      "PORCIUS\n",
      "ARSENE.\n",
      "CATO.\n",
      "ARSENE.\n",
      "CATO.\n",
      "ARSENE.\n",
      "CATO.\n",
      "ARSENE.\n",
      "PORCIUS\n",
      "PORCIA\n",
      "CATO\n",
      "PORCIA.\n",
      "PORCIUS.\n",
      "PORCIA.\n",
      "CATO\n",
      "PORCIA.\n",
      "CATO\n",
      "PORCIA\n",
      "CATO.\n",
      "PORCIA\n",
      "CATO\n",
      "PORCIA\n",
      "CATO\n",
      "PORCIUS.\n",
      "CATO.\n",
      "CÄSAR.\n",
      "CATO\n",
      "CÄSAR.\n",
      "PORCIA.\n",
      "CÄSAR.\n",
      "PORCIA.\n",
      "CÄSAR.\n",
      "PORCIA.\n",
      "CÄSAR.\n",
      "PORCIA.\n",
      "CÄSAR\n",
      "CATO\n",
      "DOMITIUS.\n",
      "PORCIUS.\n",
      "CATO.\n",
      "CATO\n",
      "DOMITIUS.\n",
      "CATO.\n",
      "DOMITIUS.\n",
      "PORCIA.\n",
      "CATO\n",
      "DOMITIUS.\n",
      "CÄSAR.\n",
      "PORCIA.\n",
      "CATO.\n",
      "ARTABANUS\n",
      "CATO\n",
      "ARTABANUS.\n",
      "CATO\n",
      "PHOKAS.\n",
      "CATO\n",
      "PHOKAS.\n",
      "CATO.\n",
      "ARTABANUS.\n",
      "CATO.\n",
      "PORCIUS.\n",
      "CATO\n",
      "CATO.\n",
      "CATO.\n",
      "PORCIUS\n",
      "CATO\n",
      "PORCIUS.\n",
      "CATO.\n",
      "PORCIUS\n",
      "CATO.\n",
      "PORCIUS.\n",
      "CATO\n",
      "PORCIUS.\n",
      "CATO.\n",
      "PORCIUS.\n",
      "PORCIUS.\n",
      "PORCIA.\n",
      "PHÖNICE.\n",
      "PORCIA\n",
      "PHÖNICE.\n",
      "PORCIA.\n",
      "PHÖNICE\n",
      "PORCIA\n",
      "PHÖNICE.\n",
      "PORCIA.\n",
      "PHOKAS\n",
      "PORCIA\n",
      "PHÖNICE.\n",
      "ARTABANUS.\n",
      "PHOKAS.\n",
      "PHOKAS.\n",
      "PORCIUS\n",
      "PHOKAS.\n",
      "PORCIA.\n",
      "PORCIUS\n",
      "PHOKAS.\n",
      "PORCIUS\n",
      "PORCIA\n",
      "ARTABAN.\n",
      "PHOKAS.\n",
      "PORCIUS\n",
      "CATO\n",
      "ARTABANUS.\n",
      "PHOKAS.\n",
      "PORCIUS.\n",
      "ARTABANUS.\n"
     ]
    }
   ],
   "source": [
    "for speech in root.findall('.//tei:sp/tei:speaker', namespaces=nsmap):\n",
    "    print(speech.text)"
   ]
  },
  {
   "cell_type": "markdown",
   "id": "ade8a980",
   "metadata": {},
   "source": [
    "Im nachfolgenden Bespiel werden zunächst über XPath alle Sprechakte (`<sp>`-Elemente) adressiert. Die .// Syntax sucht nach diesen Elementen auf jedem beliebigen Level im XML Baum. Danach iteriert der Code über jeden Sprechakt. \n",
    "\n",
    "Der Name der Sprecher:in wird aus dem `who`-Attribut von jedem `<sp>`-Element extrahiert. Die Dictionaries `speech_count`und `line_count` werden dazu verwendet, um die Anzahl der Sprachakte und der Zeilen zu zählen. Wenn der/die Sprecher:in bereits im Dictionary enthalten ist, wird die Zahl um 1 erhöht. Wenn nicht, wird der/die Sprecher:in mit einem initialen Zähler 1 hinzugefügt."
   ]
  },
  {
   "cell_type": "code",
   "execution_count": 13,
   "id": "91d4284e",
   "metadata": {},
   "outputs": [],
   "source": [
    "speech_acts = tree.findall('.//tei:sp', namespaces=nsmap)\n",
    "\n",
    "# Initialisierte Dictionaries für Sprechakte und Zeilen\n",
    "speech_count = {}\n",
    "line_count = {}\n",
    "\n",
    "for sp in speech_acts:\n",
    "    speaker = sp.get('who')\n",
    "    \n",
    "    if speaker:\n",
    "        speaker = speaker.lstrip('#')\n",
    "        \n",
    "        # Count the speech acts\n",
    "        speech_count[speaker] = speech_count.get(speaker, 0) + 1\n",
    "        \n",
    "        # Count the lines within each speech act\n",
    "        lines = sp.findall('.//tei:l', namespaces=nsmap)\n",
    "        line_count[speaker] = line_count.get(speaker, 0) + len(lines)"
   ]
  },
  {
   "cell_type": "markdown",
   "id": "adc2535e",
   "metadata": {},
   "source": [
    "Die Daten werden kombiniert und das Dataframe erstellt. Das DataFrame mit dem Namen `df_speech`wird aus den Daten generiert, die in den Dictionaries `speech_count`und `line_count`gesammelt wurden. \n",
    "\n",
    "Creating a DataFrame:\n",
    "\n",
    "`pd.DataFrame({...})`ist der Konstruktor, um ein neues DataFrame zu generieren. Beim DataFrame handelt es sich um zweidimensionale tabelarische Daten. Das DataFrame wird aus Dictionaries erstellt, bei dem jedes key-value Paar mit einer Zeile korrespondiert."
   ]
  },
  {
   "cell_type": "code",
   "execution_count": null,
   "id": "6e58d03f",
   "metadata": {},
   "outputs": [],
   "source": [
    "df_speech = pd.DataFrame({\n",
    "    'Speaker': speech_count.keys(),\n",
    "    'Number of Speech Acts': speech_count.values(),\n",
    "    'Number of Lines': [line_count[speaker] for speaker in speech_count.keys()]\n",
    "})\n",
    "\n",
    "# Anzeige des Dataframes\n",
    "print(df_speech)\n"
   ]
  },
  {
   "cell_type": "code",
   "execution_count": null,
   "id": "8756ffbc",
   "metadata": {},
   "outputs": [],
   "source": [
    "df_speech"
   ]
  }
 ],
 "metadata": {
  "kernelspec": {
   "display_name": "Python 3 (ipykernel)",
   "language": "python",
   "name": "python3"
  },
  "language_info": {
   "codemirror_mode": {
    "name": "ipython",
    "version": 3
   },
   "file_extension": ".py",
   "mimetype": "text/x-python",
   "name": "python",
   "nbconvert_exporter": "python",
   "pygments_lexer": "ipython3",
   "version": "3.10.9"
  }
 },
 "nbformat": 4,
 "nbformat_minor": 5
}
