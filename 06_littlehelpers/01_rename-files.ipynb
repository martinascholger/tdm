{
 "cells": [
  {
   "cell_type": "code",
   "execution_count": 1,
   "id": "7f140429",
   "metadata": {},
   "outputs": [
    {
     "data": {
      "text/plain": [
       "['adolph-am-ersten-mai.xml', 'alberti-brot.xml']"
      ]
     },
     "execution_count": 1,
     "metadata": {},
     "output_type": "execute_result"
    }
   ],
   "source": [
    "import os\n",
    "os.chdir(r'gerdracor') #Dateifolder mit den umzubenennenden Dateien angeben\n",
    "os.listdir('.')\n"
   ]
  },
  {
   "cell_type": "code",
   "execution_count": 2,
   "id": "cd7f00ea",
   "metadata": {},
   "outputs": [],
   "source": [
    "#Schleife erstellen, Liste der Dateien durchgehen und jede Datei umbenennen. Namen beim ersten Vorkommen von '-' in vorderen Teil (pre) und hinteren Teil (post) splitten.  \n",
    "\n",
    "for file in os.listdir('.'):\n",
    "    pre, post = file.split('-', 1)\n",
    "    bezeichnung = f'{pre}_{post}' #Dateinamen mit _ statt - wieder zusammensetzen\n",
    "    #print(bezeichnung)\n",
    "    os.rename(file, bezeichnung)"
   ]
  },
  {
   "cell_type": "code",
   "execution_count": null,
   "id": "ca06c902",
   "metadata": {},
   "outputs": [],
   "source": []
  }
 ],
 "metadata": {
  "kernelspec": {
   "display_name": "Python 3 (ipykernel)",
   "language": "python",
   "name": "python3"
  },
  "language_info": {
   "codemirror_mode": {
    "name": "ipython",
    "version": 3
   },
   "file_extension": ".py",
   "mimetype": "text/x-python",
   "name": "python",
   "nbconvert_exporter": "python",
   "pygments_lexer": "ipython3",
   "version": "3.10.9"
  }
 },
 "nbformat": 4,
 "nbformat_minor": 5
}
