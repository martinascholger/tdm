{
 "cells": [
  {
   "cell_type": "markdown",
   "id": "07684c7c",
   "metadata": {},
   "source": [
    "# Hausübung 1: Explorative Datenanalyse und Sentimentanalyse\n",
    "\n",
    "Analysiert wird das Datenset \"bbt.csv\", das in seiner ursprünglichen Form alle gesprochenen Zeilen aller Charaktere der Staffeln 1-10 von Big Bang Theorie (siehe https://www.kaggle.com/datasets/mitramir5/the-big-bang-theory-series-transcript) enthält. Das Datenset stammt von https://www.kaggle.com, einer Plattform, auf der Datensätze und Analysen von Data Scientists angeboten werden. Die Übung teilt sich in zwei Teile:\n",
    "- Explorative Datenanalyse\n",
    "- Sentimentanalyse\n",
    "\n",
    "Die meisten Punkte wurden bereits in der LV besprochen, andere (z.B. Wordcloud) müssen Sie selbst herausfinden. Sollten Sie generative KI verwenden, dann fügen Sie bitte im Notebook den Link zur Konversation hinzu.   "
   ]
  },
  {
   "cell_type": "code",
   "execution_count": null,
   "id": "75fd9075",
   "metadata": {},
   "outputs": [],
   "source": [
    "# Bibliotheken importieren. \n",
    "# Sollte eine Bibliothek nicht vorhanden sein (z.B. wordcloud) muss diese über pip install nachinstalliert werden\n",
    "import pandas as pd\n",
    "import matplotlib.pyplot as plt\n",
    "from wordcloud import WordCloud, STOPWORDS"
   ]
  },
  {
   "cell_type": "markdown",
   "id": "756fc7f3",
   "metadata": {},
   "source": [
    "Verwenden Sie die entsprechende Pandas-Funktion um die .csv-Datei \"bbt.csv\" einzulesen. Geben Sie dann das DataFrame aus und machen Sie sich mit dem Datensatz vertraut. "
   ]
  },
  {
   "cell_type": "code",
   "execution_count": null,
   "id": "9ad349ed",
   "metadata": {
    "scrolled": false
   },
   "outputs": [],
   "source": []
  },
  {
   "cell_type": "markdown",
   "id": "763d4bb2",
   "metadata": {},
   "source": [
    "Geben Sie alle eindeutigen Werte aus der Spalte \"person_scene\" aus. "
   ]
  },
  {
   "cell_type": "code",
   "execution_count": null,
   "id": "93131397",
   "metadata": {},
   "outputs": [],
   "source": []
  },
  {
   "cell_type": "markdown",
   "id": "1b388380",
   "metadata": {},
   "source": [
    "Sie werden feststellen, dass es neben den Hauptdarsteller:innen der Serie noch viele weiter Charaktere gibt bzw. auch Pre-processing notwendig wäre, um unnötige Zeichen wie Klammern zu entfernen. In weiterer Folge wollen wir nur einen Teil davon weiter bearbeiten. Die nächste Zeile filtert daher nur jene Charaktere, die in die weitere Analyse mit einbezogen werden sollen. Sie können die Liste beliebig verändern."
   ]
  },
  {
   "cell_type": "code",
   "execution_count": null,
   "id": "268fe5bc",
   "metadata": {},
   "outputs": [],
   "source": [
    "df = df[df.person_scene.isin([\"Sheldon\", \"Leonard\", \"Penny\", \"Wheaton\", \"Barry\"])]\n",
    "df = df.dropna()\n",
    "df"
   ]
  },
  {
   "cell_type": "markdown",
   "id": "119d7521",
   "metadata": {},
   "source": [
    "Geben Sie die Länge des DataFrames aus."
   ]
  },
  {
   "cell_type": "code",
   "execution_count": null,
   "id": "d581e622",
   "metadata": {},
   "outputs": [],
   "source": []
  },
  {
   "cell_type": "markdown",
   "id": "af36c061",
   "metadata": {},
   "source": [
    "Geben Sie die ersten 50 Zeilen des DataFrames aus."
   ]
  },
  {
   "cell_type": "code",
   "execution_count": null,
   "id": "41e3611d",
   "metadata": {
    "scrolled": true
   },
   "outputs": [],
   "source": []
  },
  {
   "cell_type": "markdown",
   "id": "38c00f71",
   "metadata": {},
   "source": [
    "Fügen Sie dem DataFrame eine zusätzliche Spalte hinzu (z.B. num_chars), in der Sie die Anzahl der Zeichen des jeweiligen Dialogs ausgeben. Es kann eine Funktion auf Werte eines DataFrames angewendet werden, indem die `apply`-Methode ([documentation](https://pandas.pydata.org/docs/reference/api/pandas.DataFrame.apply.html#pandas.DataFrame.apply)) verwendet wird."
   ]
  },
  {
   "cell_type": "code",
   "execution_count": null,
   "id": "cc9e327f",
   "metadata": {},
   "outputs": [],
   "source": []
  },
  {
   "cell_type": "code",
   "execution_count": null,
   "id": "febc3f04",
   "metadata": {},
   "outputs": [],
   "source": []
  },
  {
   "cell_type": "markdown",
   "id": "67337900",
   "metadata": {},
   "source": [
    "Geben Sie die Summe der \"num_chars\" eines beliebigen Charakters aus.   "
   ]
  },
  {
   "cell_type": "code",
   "execution_count": null,
   "id": "cbe99b1c",
   "metadata": {},
   "outputs": [],
   "source": []
  },
  {
   "cell_type": "markdown",
   "id": "843290fa",
   "metadata": {},
   "source": [
    "Geben Sie die Anzahl der Sprechakte pro Charakter aus. "
   ]
  },
  {
   "cell_type": "code",
   "execution_count": null,
   "id": "1294d75e",
   "metadata": {},
   "outputs": [],
   "source": []
  },
  {
   "cell_type": "markdown",
   "id": "fb85ce02",
   "metadata": {},
   "source": [
    "Erstellen Sie einen Barplot, der die Anzahl der Sprechakte pro Charakter zeigt. Geben Sie auch Labels für die X- und Y-Achse an. Die Gestaltung (z.B. Balkenbreite oder Farbe) bleibt Ihnen überlassen.  "
   ]
  },
  {
   "cell_type": "code",
   "execution_count": null,
   "id": "afea467a",
   "metadata": {
    "scrolled": false
   },
   "outputs": [],
   "source": []
  },
  {
   "cell_type": "markdown",
   "id": "34e262c3",
   "metadata": {},
   "source": [
    "## Wordcloud erstellen\n",
    "Erzeugen Sie eine Wordcloud basierend auf den Texten in der Spalte \"dialogue\". Das Design der Wordcloud bleibt ganz Ihnen überlassen. Sie werden nach dem ersten Durchlauf feststellen, dass Zeichenketten vorkommen, die den Informationsgehalt der Wordcloud stören. Entfernen Sie Stoppwörter und ergänzen Sie diese durch eine eigene Liste. "
   ]
  },
  {
   "cell_type": "code",
   "execution_count": null,
   "id": "9fc991c3",
   "metadata": {},
   "outputs": [],
   "source": []
  },
  {
   "cell_type": "markdown",
   "id": "e316ac78",
   "metadata": {},
   "source": [
    "Speichern Sie die Wordcloud als .png"
   ]
  },
  {
   "cell_type": "code",
   "execution_count": null,
   "id": "af2ebd71",
   "metadata": {
    "scrolled": true
   },
   "outputs": [],
   "source": []
  },
  {
   "cell_type": "markdown",
   "id": "efb53356",
   "metadata": {},
   "source": [
    "### Teil 2: Sentimentanalyse\n",
    "Die Dialoge sollen nun bezüglich des Sentiments analysiert werden. Dazu soll Vader verwendet werden.  "
   ]
  },
  {
   "cell_type": "code",
   "execution_count": null,
   "id": "bf9a9e39",
   "metadata": {
    "scrolled": true
   },
   "outputs": [],
   "source": [
    "import nltk\n",
    "nltk.download('vader_lexicon')\n",
    "from nltk.sentiment.vader import SentimentIntensityAnalyzer\n",
    "sentiment_analyzer = SentimentIntensityAnalyzer()"
   ]
  },
  {
   "cell_type": "markdown",
   "id": "6ae00cf0",
   "metadata": {},
   "source": [
    "Definieren Sie eine Funktion, die nur den Compound Score des VADER Sentiment Analyzers zurückgibt."
   ]
  },
  {
   "cell_type": "code",
   "execution_count": null,
   "id": "7a4d49f3",
   "metadata": {},
   "outputs": [],
   "source": []
  },
  {
   "cell_type": "markdown",
   "id": "f8ca7368",
   "metadata": {},
   "source": [
    "Verwenden Sie das *tqdm* Paket, um den Rechenprozess anzuzeigen."
   ]
  },
  {
   "cell_type": "code",
   "execution_count": null,
   "id": "605e98f9",
   "metadata": {},
   "outputs": [],
   "source": []
  },
  {
   "cell_type": "markdown",
   "id": "031a9dd3",
   "metadata": {},
   "source": [
    "Verwenden Sie `progress_apply` (wenn tqdm verwendet wird) oder das normale `apply` (wenn tqdm nicht verwendet wird), um die Stimmung der Dialoge zu berechnen. Der compound-Wert soll in der Spalte \"sentiment\" ausgegeben werden. "
   ]
  },
  {
   "cell_type": "code",
   "execution_count": null,
   "id": "15518b5b",
   "metadata": {
    "scrolled": true
   },
   "outputs": [],
   "source": []
  },
  {
   "cell_type": "markdown",
   "id": "5fc5135f",
   "metadata": {},
   "source": [
    "Geben Sie zwischendurch das DataFrame aus"
   ]
  },
  {
   "cell_type": "code",
   "execution_count": null,
   "id": "6be5aa70",
   "metadata": {
    "scrolled": false
   },
   "outputs": [],
   "source": []
  },
  {
   "cell_type": "markdown",
   "id": "66579699",
   "metadata": {},
   "source": [
    "Geben Sie dekriptive Statistiken zur neu hinzugefügten Spalte \"sentiment\" aus. Siehe auch [Documentation](https://pandas.pydata.org/pandas-docs/stable/reference/api/pandas.DataFrame.describe.html?highlight=describe#pandas.DataFrame.describe)) zu describe().\n",
    "\n",
    "* count: Anzahl der Beobachtungen\n",
    "* mean: Mittelwert\n",
    "* std: Standardabweichung\n",
    "* max: Maximalwerte\n",
    "* min: Minimalwerte\n",
    "* 25%: 25%-Perzentil\n",
    "* 50%: Median\n",
    "* 75%: 75%-Perzentil\n"
   ]
  },
  {
   "cell_type": "code",
   "execution_count": null,
   "id": "1a87c099",
   "metadata": {},
   "outputs": [],
   "source": []
  },
  {
   "cell_type": "markdown",
   "id": "95092088",
   "metadata": {},
   "source": [
    "Erstellen Sie ein Histogramm, das die Sentimentverteilung zeigt."
   ]
  },
  {
   "cell_type": "code",
   "execution_count": null,
   "id": "8943c009",
   "metadata": {},
   "outputs": [],
   "source": []
  },
  {
   "cell_type": "markdown",
   "id": "24d57089",
   "metadata": {},
   "source": [
    "Geben Sie eine Statistik gruppiert nach \"person_scene\" aus. "
   ]
  },
  {
   "cell_type": "code",
   "execution_count": null,
   "id": "6e639498",
   "metadata": {
    "scrolled": true
   },
   "outputs": [],
   "source": []
  },
  {
   "cell_type": "markdown",
   "id": "7817ba1b",
   "metadata": {},
   "source": [
    "Geben Sie den Mittelwert des Sentiments pro Charakter in einem Boxplot aus. Dazu müssen Sie zunächste eine Gruppierung erzeugen. "
   ]
  },
  {
   "cell_type": "code",
   "execution_count": null,
   "id": "806e2a5d",
   "metadata": {},
   "outputs": [],
   "source": [
    "\n"
   ]
  },
  {
   "cell_type": "markdown",
   "id": "a062822f",
   "metadata": {},
   "source": [
    "Zusatzaufgabe: Plotten Sie die Sentimententwicklung über alle Folgen für einen einzelnen Charakter"
   ]
  },
  {
   "cell_type": "code",
   "execution_count": null,
   "id": "e2c73aa7",
   "metadata": {
    "scrolled": true
   },
   "outputs": [],
   "source": []
  }
 ],
 "metadata": {
  "kernelspec": {
   "display_name": "Python 3 (ipykernel)",
   "language": "python",
   "name": "python3"
  },
  "language_info": {
   "codemirror_mode": {
    "name": "ipython",
    "version": 3
   },
   "file_extension": ".py",
   "mimetype": "text/x-python",
   "name": "python",
   "nbconvert_exporter": "python",
   "pygments_lexer": "ipython3",
   "version": "3.10.9"
  }
 },
 "nbformat": 4,
 "nbformat_minor": 5
}
