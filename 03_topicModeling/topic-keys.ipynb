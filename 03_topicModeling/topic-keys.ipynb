{
 "cells": [
  {
   "cell_type": "markdown",
   "id": "a9fe3b81",
   "metadata": {},
   "source": [
    "### Mallet output visualisieren. \n",
    "\n",
    "Hier wird die Topic-Verteilung über das gesamte Korpus visualisiert. \n",
    "Siehe Video von pvierth: https://www.youtube.com/watch?v=GLfOANUqulA"
   ]
  },
  {
   "cell_type": "code",
   "execution_count": null,
   "id": "c88b8386",
   "metadata": {},
   "outputs": [],
   "source": [
    "import matplotlib.pyplot as plt"
   ]
  },
  {
   "cell_type": "code",
   "execution_count": null,
   "id": "a95bd0f0",
   "metadata": {},
   "outputs": [],
   "source": [
    "# erstellt eine Liste bestehend aus jeder einzelnen Zeile aus dem Eingabedokument\n",
    "\n",
    "with open('tutorial_keys.txt', encoding='utf-8') as rf:\n",
    "    topic_info = rf.read().split(\"\\n\")"
   ]
  },
  {
   "cell_type": "code",
   "execution_count": null,
   "id": "1a19fd28",
   "metadata": {},
   "outputs": [],
   "source": [
    "# topic_info = [item for item in topic_info if item != \"\"]\n",
    "\n",
    "# erstellt ein leeres dictionary, das die Info speichert\n",
    "topics = {}\n",
    "\n",
    "# splittet alle Items nach den Tabs\n",
    "for line in topic_info:\n",
    "    data = line.split(\"\\t\")\n",
    "    \n",
    "   # Zahl der Topics\n",
    "    topic_num = data[0]\n",
    "    \n",
    "   # ersetzt das Zahlenformat von , auf \n",
    "    numeric_str = data[1]\n",
    "    numeric_str = numeric_str.replace(\",\", \".\")\n",
    "    topic_weight = numeric_str\n",
    "    \n",
    "    # holt die Wörter in den jeweiligen Topics und splittet sie an der Wortgrenze\n",
    "    topic_words = data[2].split(\" \")\n",
    "    \n",
    "    #speichert die Informationen im dictionary\n",
    "    topics[topic_num] = [topic_weight, topic_words]\n",
    "    "
   ]
  },
  {
   "cell_type": "markdown",
   "id": "ef97252c",
   "metadata": {},
   "source": [
    "Visualisierung der Daten als Bar Chart"
   ]
  },
  {
   "cell_type": "code",
   "execution_count": null,
   "id": "0b31b5d6",
   "metadata": {
    "scrolled": true
   },
   "outputs": [],
   "source": [
    "# Index, List der integers der Anzahl der Länge der Topics\n",
    "index = [i for i in range(len(topics))]\n",
    "\n",
    "# Gewichtung der Topics.\n",
    "weights = [topics[str(i)][0] for i in range(len(topics))]\n",
    "\n",
    "# Erstellt Lebels für jede Bar\n",
    "labels = [f\"Topic {i + 1}\" for i in range(len(topics))] \n",
    "\n",
    "# Resultat visualisieren\n",
    "plt.bar(index, weights)\n",
    "\n",
    "plt.xticks(index, labels, rotation=90)\n",
    "plt.xlabel(\"Topic\")\n",
    "plt.ylabel(\"Weight\")\n",
    "plt.title(\"Corpus Topic Weights\")\n",
    "\n",
    "plt.show()\n"
   ]
  },
  {
   "cell_type": "code",
   "execution_count": null,
   "id": "e12e40fb",
   "metadata": {},
   "outputs": [],
   "source": []
  }
 ],
 "metadata": {
  "kernelspec": {
   "display_name": "Python 3 (ipykernel)",
   "language": "python",
   "name": "python3"
  },
  "language_info": {
   "codemirror_mode": {
    "name": "ipython",
    "version": 3
   },
   "file_extension": ".py",
   "mimetype": "text/x-python",
   "name": "python",
   "nbconvert_exporter": "python",
   "pygments_lexer": "ipython3",
   "version": "3.10.9"
  }
 },
 "nbformat": 4,
 "nbformat_minor": 5
}
