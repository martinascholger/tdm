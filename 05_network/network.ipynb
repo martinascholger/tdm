{
 "cells": [
  {
   "cell_type": "markdown",
   "id": "d972c4af",
   "metadata": {},
   "source": [
    "# Netzwerke visualisieren\n",
    "\n",
    "Für die Visualisierung von Netzwerken stehen unterschiedliche Python-Bibliotheken zur Verfügung. Diese reichen von statischen bis dynamischen Visualisierungen. \n",
    "\n",
    "- Mayank (2021): Netzwerkvisualisierung mit Python. https://towardsdatascience.com/visualizing-networks-in-python-d70f4cbeb259\n",
    "- NetworkX developert (2014-2024): NetworkX. Network Analysis in Python. https://networkx.org/\n",
    "- Plotly:  https://plotly.com/python/network-graphs/\n",
    "- PyVis: https://pyvis.readthedocs.io/en/latest/index.html\n",
    "\n",
    "In diesem Notebook wird NetworkX für die Netzwerkvisualisierung verwendet. Dafür benötigen wir die aktuellste Version: `pip install networkx` oder `pip install networkx --upgrade`\n",
    "\n",
    "\n"
   ]
  },
  {
   "cell_type": "code",
   "execution_count": null,
   "id": "ad69bb28",
   "metadata": {},
   "outputs": [],
   "source": [
    "# import networkx \n",
    "import networkx as nx\n",
    "\n",
    "# import matplotlib.pyplot\n",
    "import matplotlib.pyplot as plt #zeigt die Visualisierung, die wir mit networkx erzeugen\n"
   ]
  },
  {
   "cell_type": "code",
   "execution_count": null,
   "id": "bbd7fbe9",
   "metadata": {},
   "outputs": [],
   "source": [
    "#Graphentypen\n",
    "#Graph-Konstruktor, einfacher, ungerichteter Graph\n",
    "g = nx.Graph()\n",
    "\n",
    "#gerichteter Graph\n",
    "g = nx.DiGraph() \n",
    "\n",
    "#multiple Kanten zwischen Knoten; Graph in unterschiedliche Richtungen\n",
    "g= nx.MultiGraph() \n",
    "\n",
    "#gerichteter  version \n",
    "g= nx.MultiDiGraph()"
   ]
  },
  {
   "cell_type": "code",
   "execution_count": null,
   "id": "7af7f903",
   "metadata": {},
   "outputs": [],
   "source": [
    "#Kanten aus einer Liste erzeugen\n",
    "\n",
    "edge_list = [(1, 2), (2, 3), (3, 4), (3, 5), (4, 6), (6, 7)]\n"
   ]
  },
  {
   "cell_type": "code",
   "execution_count": null,
   "id": "c6e1307c",
   "metadata": {
    "scrolled": true
   },
   "outputs": [],
   "source": [
    "#Unterschiedliche Layouts\n",
    "\n",
    "#draw_circular\n",
    "#draw_shell\n",
    "#planar\n",
    "#spectral\n",
    "#random\n",
    "\n"
   ]
  },
  {
   "cell_type": "code",
   "execution_count": null,
   "id": "7cc41f88",
   "metadata": {
    "scrolled": true
   },
   "outputs": [],
   "source": [
    "#den kürzesten Pfad finden\n",
    "\n",
    "edge_list = [(1,2), (2,3), (3,4), (3,5), (4,6), (6,7), (2, 8), (8,9), (9,4)]\n",
    "\n"
   ]
  },
  {
   "cell_type": "code",
   "execution_count": null,
   "id": "c5e29c47",
   "metadata": {},
   "outputs": [],
   "source": [
    "#Zentralität\n",
    "\n",
    "G1 = nx.complete_graph(5)\n",
    "G2 = nx.complete_graph(5)\n",
    "\n",
    "G2 = nx.relabel_nodes(G2, {0: \"A\", 1: \"B\", 2: \"C\", 3: \"D\", 4: \"E\"})\n",
    "\n",
    "G_connector = nx.from_edgelist([(4, 'X'), (\"A\", \"X\")])\n",
    "\n",
    "G = nx.compose_all([G1, G2, G_connector])\n",
    "\n",
    "print(nx.degree_centrality(G)) #Anzahl der Kanten\n",
    "print(nx.betweenness_centrality(G)) #Wie häufig ein Knoten zwischen anderen liegt\n",
    "\n",
    "nx.draw_spring(G, with_labels=True)\n",
    "plt.show()\n"
   ]
  },
  {
   "cell_type": "code",
   "execution_count": null,
   "id": "9f46d4e8",
   "metadata": {},
   "outputs": [],
   "source": [
    "import pandas as pd\n",
    "import networkx as nx\n",
    "import matplotlib.pyplot as plt\n",
    "import numpy as np\n",
    "\n",
    "# CSV File laden\n",
    "file_path = 'britishFiction_CA_100_MFWs_Culled_0__Classic Delta_EDGES.csv'  \n",
    "data = pd.read_csv(file_path)\n",
    "\n",
    "# Graph erstellen\n",
    "G = nx.Graph()\n",
    "\n",
    "# Kanten aus dem DataFrame hinzufügen\n",
    "for index, row in data.iterrows():\n",
    "    G.add_edge(row['Source'], row['Target'], weight=row['Weight'])\n",
    "\n",
    "#Knotengröße\n",
    "node_size = [G.degree(node) * 100 for node in G.nodes()]\n",
    "\n",
    "# Kantenstärke basierend auf der Gewichtung\n",
    "edge_thickness = [G[u][v]['weight'] for u, v in G.edges()]\n",
    "\n",
    "# Knotenfarbe basierend auf Grad\n",
    "node_color = [G.degree(node) for node in G.nodes()]\n",
    "\n",
    "# Draw the graph\n",
    "plt.figure(figsize=(12, 12))\n",
    "nx.draw_spring(G, with_labels=True, node_color=node_color, node_size=node_size, \n",
    "        edge_color='gray', width=edge_thickness, linewidths=1, font_size=15, \n",
    "        cmap=plt.cm.magma)\n",
    "\n",
    "\n",
    "# Save the graph as a PNG file\n",
    "plt.savefig('enhanced_network_graph.png')\n",
    "\n",
    "# Optionally display the plot\n",
    "plt.show()\n"
   ]
  },
  {
   "cell_type": "code",
   "execution_count": null,
   "id": "ce148be9",
   "metadata": {},
   "outputs": [],
   "source": []
  }
 ],
 "metadata": {
  "kernelspec": {
   "display_name": "Python 3 (ipykernel)",
   "language": "python",
   "name": "python3"
  },
  "language_info": {
   "codemirror_mode": {
    "name": "ipython",
    "version": 3
   },
   "file_extension": ".py",
   "mimetype": "text/x-python",
   "name": "python",
   "nbconvert_exporter": "python",
   "pygments_lexer": "ipython3",
   "version": "3.10.9"
  }
 },
 "nbformat": 4,
 "nbformat_minor": 5
}
