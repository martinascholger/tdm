{
 "cells": [
  {
   "cell_type": "markdown",
   "id": "fa9c958d",
   "metadata": {},
   "source": [
    "# Regular Expressions in Python"
   ]
  },
  {
   "cell_type": "markdown",
   "id": "d1ceaaed-d290-4be6-b7a6-2bf5fd4f9fe3",
   "metadata": {},
   "source": [
    "In Python werden reguläre Ausdrücke oder Regular Expressions oder RegEx über das Modul `re` aus der Standard Library bereitgestellt. Wir haben Regular Expressions bereits beim letzten Mal in https://regex101.com/ getestet. Regular Expressions können in unterschiedlichen Umgebungen verwendet werden, z.B. zum Suchen/Ersetzen in Texteditoren wie Word oder Oxygen oder in Programmiersprachen wie PHP oder Python. Dabei ist darauf zu achten, dass sich die Implementation von Regular Expressions leicht unterscheiden kann.   \n",
    "\n",
    "Eine Einführung zu Regular Expressions finden Sie bei Gunter Vasold https://github.com/gvasold/gdp/blob/main/05-texte/02-regex.ipynb"
   ]
  },
  {
   "cell_type": "markdown",
   "id": "91b0eaf8-d7b1-4e54-8347-a80395295117",
   "metadata": {},
   "source": [
    "In Python gibt es auch andere Möglichkeiten, um in einem String nach einem Substring zu suchen, z.B. über den in-Operator:"
   ]
  },
  {
   "cell_type": "code",
   "execution_count": 1,
   "id": "557dd493-db83-44e7-a4fe-74310fc03cee",
   "metadata": {},
   "outputs": [
    {
     "name": "stdout",
     "output_type": "stream",
     "text": [
      "Daniel\n",
      "Melanie\n"
     ]
    }
   ],
   "source": [
    "firstnames = ['Andreas', 'Christof', 'Franziska', 'Gisela', 'Linda', \n",
    "              'Johanna', 'Daniel', 'Georg', 'Melanie', 'Dusan']\n",
    "for firstname in firstnames:\n",
    "    if 'ie' in firstname:\n",
    "        print(firstname)"
   ]
  },
  {
   "cell_type": "markdown",
   "id": "598224a4-f895-42d2-a374-5e361e45ac0f",
   "metadata": {},
   "source": [
    "Zunächst wird eine Liste mit Namen erzeugt, die über den `=` Operator an die Variable `firstnames` gebunden wird. Danach wird eine for-Schleife verwendet, die über jeden Namen in der Liste iteriert. Bei jeder Iteration wird der aktuelle Name der Variable `firstname` zugewiesen. `if` überprüft, ob der Substring 'ie' im aktuelle Textstring vorhanden ist und gibt den Namen über die Funktion print() zurück.  "
   ]
  },
  {
   "cell_type": "markdown",
   "id": "b59bf373-0511-4dbc-9fec-bebb3df7cb92",
   "metadata": {},
   "source": [
    "Reguläre Ausdrücke (oder regular expressions) erweitern die Möglichkeiten, in einem String nach einem Muster zu suchen, enorm. Ein regulärer Ausdruck ist ein in einer speziellen Syntax geschriebenes Muster, das auf einen String angewendet wird. Zunächst muss aber Modul `re` importiert werden. "
   ]
  },
  {
   "cell_type": "code",
   "execution_count": 2,
   "id": "840b7690-2071-4c1d-9c1b-ee563d0efe5f",
   "metadata": {},
   "outputs": [],
   "source": [
    "import re"
   ]
  },
  {
   "cell_type": "markdown",
   "id": "9e3a0c47-85aa-4dcb-9bee-8e58487e4f0f",
   "metadata": {},
   "source": [
    "Das `re`-Modul stellt eine Reihe von Funktionen bereit:\n",
    "* `search()` liefert ein `Match`-Objekt, sofern es einen Math im String gibt. `search()` erwartet zwei Argumente: das zu suchende Muster und den String, auf den das Muster anzuwenden ist.\n",
    "* `findall()` liefert eine Liste zurück, die alle Matches enthält.\n",
    "* `sub()` ersetzt einen oder mehrere Treffer durch einen String.\n",
    "* `split()` liefert eine Liste mit den einzelnen Strings, die durch ein bestimmtes Argument getrennt wurden.  "
   ]
  },
  {
   "cell_type": "code",
   "execution_count": 3,
   "id": "305d1134-371d-4519-ae8a-0f8da96db7b3",
   "metadata": {},
   "outputs": [
    {
     "data": {
      "text/plain": [
       "<re.Match object; span=(2, 6), match='rose'>"
      ]
     },
     "execution_count": 3,
     "metadata": {},
     "output_type": "execute_result"
    }
   ],
   "source": [
    "re.search('rose', 'a rose is a rose is a rose')"
   ]
  },
  {
   "cell_type": "code",
   "execution_count": 4,
   "id": "32fad441-f8d1-4aaa-ae53-74b4dbdd0500",
   "metadata": {},
   "outputs": [
    {
     "data": {
      "text/plain": [
       "<re.Match object; span=(2, 6), match='rose'>"
      ]
     },
     "execution_count": 4,
     "metadata": {},
     "output_type": "execute_result"
    }
   ],
   "source": [
    "sentence = \"a rose is a rose is a rose\"\n",
    "re.search('rose', sentence)"
   ]
  },
  {
   "cell_type": "markdown",
   "id": "a4e4d6bf-4e1e-450b-b51e-f9edd187ecc5",
   "metadata": {},
   "source": [
    "<div class=\"alert alert-block alert-info\">\n",
    "<b>Übung Slicing</b>\n",
    "<ul>\n",
    "    <li>Mit Slicing können Teile aus einem String zurückgegeben werden. Dazu wird in eckiger Klammer ein Startindex und ein Endindex angegeben, z.B. [1:8].</li>\n",
    "    <li>Geben Sie aus dem folgenden Satz das erste Vorkommen von \"rose\" aus.</li>\n",
    "</ul>\n",
    "</div>"
   ]
  },
  {
   "cell_type": "code",
   "execution_count": 5,
   "id": "5d4a5bd3-2d7d-44f2-bc82-3523b629355f",
   "metadata": {},
   "outputs": [
    {
     "data": {
      "text/plain": [
       "'rose is a rose is a rose'"
      ]
     },
     "execution_count": 5,
     "metadata": {},
     "output_type": "execute_result"
    }
   ],
   "source": [
    "sentence = \"a rose is a rose is a rose\"\n",
    "sentence[2:]"
   ]
  },
  {
   "cell_type": "markdown",
   "id": "f89224a1-b242-45be-bbb7-58f0436960a6",
   "metadata": {},
   "source": [
    "<div class=\"alert alert-block alert-info\">\n",
    "<b>Übung Regex</b>\n",
    "<ul>\n",
    "    <li>Erzeugen Sie eine Variable und übergeben Sie dieser den Text \"Weißt du, was passiert, wenn man sich alle Türen offen hält?\"</li>\n",
    "    <li>Überprüfen Sie mittels Regex, ob der Satz mit einem \"Weißt du\" beginnt und mit einem \"?\" endet.</li>\n",
    "</ul>\n",
    "</div>"
   ]
  },
  {
   "cell_type": "code",
   "execution_count": 6,
   "id": "e1634b62-57a5-414b-90bf-ca374c3f96dc",
   "metadata": {},
   "outputs": [
    {
     "data": {
      "text/plain": [
       "'Weißt du, was passiert, wenn man sich alle Türen offen hält?'"
      ]
     },
     "execution_count": 6,
     "metadata": {},
     "output_type": "execute_result"
    }
   ],
   "source": [
    "txt = \"Weißt du, was passiert, wenn man sich alle Türen offen hält?\"\n",
    "x = re.search(\"Weißt du.*?\", txt)\n",
    "x.string\n"
   ]
  },
  {
   "cell_type": "markdown",
   "id": "980adb19-24ed-4666-96e3-f7d2e70d23eb",
   "metadata": {},
   "source": [
    "Wir haben in unserem Beispiel nicht nur ein Vorkommnis von \"rose\". Mit der Funktion `findall()` wird eine Liste an Treffern zurückgeliefert."
   ]
  },
  {
   "cell_type": "code",
   "execution_count": 7,
   "id": "40ab6317-f746-4dd2-aaab-66efb632656d",
   "metadata": {},
   "outputs": [
    {
     "data": {
      "text/plain": [
       "['rose', 'rose', 'rose']"
      ]
     },
     "execution_count": 7,
     "metadata": {},
     "output_type": "execute_result"
    }
   ],
   "source": [
    "re.findall('rose', 'a rose is a rose is a rose')"
   ]
  },
  {
   "cell_type": "markdown",
   "id": "574eea73-3406-46ef-8cc6-e13aae025558",
   "metadata": {},
   "source": [
    "Nun wollen wir eine Datei öffenen und diese "
   ]
  },
  {
   "cell_type": "code",
   "execution_count": 8,
   "id": "935c12fb-c6e6-49c2-83b9-6c1a93128b16",
   "metadata": {},
   "outputs": [
    {
     "data": {
      "text/plain": [
       "'Die Extensible Markup Language (dt. Erweiterbare Auszeichnungssprache), abgekürzt XML, ist eine Auszeichnungssprache zur Darstellung hierarchisch strukturierter Daten im Format einer Textdatei, die so'"
      ]
     },
     "execution_count": 8,
     "metadata": {},
     "output_type": "execute_result"
    }
   ],
   "source": [
    "with open('data/XML.txt', 'r', encoding='utf-8') as fh:\n",
    "    text_content = fh.read()\n",
    "text_content[:200]"
   ]
  },
  {
   "cell_type": "markdown",
   "id": "a6de6f67-5f85-488f-97cc-c538b7cd15ff",
   "metadata": {},
   "source": [
    "Beim Einlesen der Daten sollte immer die Zeichenkodierung mit angegeben werden, um fehlerhafte Kodierung zu vermeiden:"
   ]
  },
  {
   "cell_type": "code",
   "execution_count": 9,
   "id": "ed592812-bf83-44e3-8b1c-7ef39f2b8643",
   "metadata": {
    "scrolled": true
   },
   "outputs": [
    {
     "data": {
      "text/plain": [
       "'Die Extensible Markup Language (dt. Erweiterbare Auszeichnungssprache), abgekürzt XML, ist eine Auszeichnungssprache zur Darstellung hierarchisch strukturierter Daten im Format einer Textdatei, die sowohl von Menschen als auch von Maschinen lesbar ist.\\n\\nXML wird auch für den plattform- und implementationsunabhängigen Austausch von Daten zwischen Computersystemen eingesetzt, insbesondere über das Internet, und wurde vom World Wide Web Consortium (W3C) am 10. Februar 1998 veröffentlicht.[1] Die aktuelle Fassung ist die fünfte Ausgabe vom 26. November 2008.[2] XML ist eine Metasprache, auf deren Basis durch strukturelle und inhaltliche Einschränkungen anwendungsspezifische Sprachen definiert werden. Diese Einschränkungen werden entweder durch eine Document Type Description (DTD) oder durch ein XML Schema ausgedrückt. Beispiele für XML-Sprachen sind: RSS, MathML, GraphML, XHTML, XAML, Scalable Vector Graphics (SVG), GPX, aber auch das XML-Schema selbst.\\n\\nEin XML-Dokument besteht aus Textzeichen in der UTF-8-Kodierung. XML kann in allen Texteditoren, die UTF-8 unterstützen, angezeigt und bearbeitet werden.\\n\\nWenn das XML-Dokument Binärdaten enthalten soll, müssen diese Daten als Text umkodiert werden. Dazu kann z. B. die Base64-Kodierung verwendet werden.'"
      ]
     },
     "execution_count": 9,
     "metadata": {},
     "output_type": "execute_result"
    }
   ],
   "source": [
    "with open('data/XML.txt', 'r', encoding='UTF-8') as fh:\n",
    "    text = fh.read()\n",
    "text_content #Geben Sie nur die ersten 200 Zeichen aus"
   ]
  },
  {
   "cell_type": "code",
   "execution_count": 10,
   "id": "3ce26268-b84e-44f6-8e64-db769cc05527",
   "metadata": {},
   "outputs": [
    {
     "data": {
      "text/plain": [
       "['XML', 'XML', 'XML', 'XML', 'XML', 'XML', 'XML', 'XML', 'XML']"
      ]
     },
     "execution_count": 10,
     "metadata": {},
     "output_type": "execute_result"
    }
   ],
   "source": [
    "re.findall('XML', text_content)"
   ]
  },
  {
   "cell_type": "code",
   "execution_count": 11,
   "id": "cbfb28ed-48da-445a-a2e9-b0a8331cbbed",
   "metadata": {},
   "outputs": [
    {
     "data": {
      "text/plain": [
       "['3', '10', '1998', '1', '26', '2008', '2', '8', '8', '64']"
      ]
     },
     "execution_count": 11,
     "metadata": {},
     "output_type": "execute_result"
    }
   ],
   "source": [
    "re.findall('\\d+', text_content)"
   ]
  },
  {
   "cell_type": "markdown",
   "id": "bc4e366f-7e7c-4bca-8b46-6cf121672314",
   "metadata": {},
   "source": [
    "Mit der Funktion `sub()` können wir Strings ersetzen. Dazu werden drei Argumente übergeben: das Suchmuster, das Ersetzungsmuster und der Ausgangstext.  "
   ]
  },
  {
   "cell_type": "code",
   "execution_count": 12,
   "id": "cafc6551-4df0-4f21-b5f8-6cf23999245b",
   "metadata": {},
   "outputs": [
    {
     "data": {
      "text/plain": [
       "'Die Extensible Markup Language (dt. Erweiterbare Auszeichnungssprache), abgekürzt XML, ist eine Auszeichnungssprache zur Darstellung hierarchisch strukturierter Daten im Format einer Textdatei, die sowohl von Menschen als auch von Maschinen lesbar ist.\\n\\nXML wird auch für den plattform- und implementationsunabhängigen Austausch von Daten zwischen Computersystemen eingesetzt, insbesondere über das Internet, und wurde vom World Wide Web Consortium (W<number>3</number>C) am <number>10</number>. Februar <number>1998</number> veröffentlicht.[<number>1</number>] Die aktuelle Fassung ist die fünfte Ausgabe vom <number>26</number>. November <number>2008</number>.[<number>2</number>] XML ist eine Metasprache, auf deren Basis durch strukturelle und inhaltliche Einschränkungen anwendungsspezifische Sprachen definiert werden. Diese Einschränkungen werden entweder durch eine Document Type Description (DTD) oder durch ein XML Schema ausgedrückt. Beispiele für XML-Sprachen sind: RSS, MathML, GraphML, XHTML, XAML, Scalable Vector Graphics (SVG), GPX, aber auch das XML-Schema selbst.\\n\\nEin XML-Dokument besteht aus Textzeichen in der UTF-<number>8</number>-Kodierung. XML kann in allen Texteditoren, die UTF-<number>8</number> unterstützen, angezeigt und bearbeitet werden.\\n\\nWenn das XML-Dokument Binärdaten enthalten soll, müssen diese Daten als Text umkodiert werden. Dazu kann z. B. die Base<number>64</number>-Kodierung verwendet werden.'"
      ]
     },
     "execution_count": 12,
     "metadata": {},
     "output_type": "execute_result"
    }
   ],
   "source": [
    "re.sub(r'(\\d+)', r'<number>\\1</number>', text_content)"
   ]
  },
  {
   "cell_type": "markdown",
   "id": "40ccb9c8-1208-489a-8139-5ceff4da26d5",
   "metadata": {},
   "source": [
    "<div class=\"alert alert-block alert-info\">\n",
    "<b>Übung Regex</b>\n",
    "<ul>\n",
    "    <li>Suchen Sie nach allen Datumsangaben.</li>\n",
    "    <li>Ersetzen Sie die Datumsangaben durch das Muster `<date when=\"\"></date>`</li>\n",
    "</ul>\n",
    "</div>"
   ]
  },
  {
   "cell_type": "markdown",
   "id": "a05981de-40c7-4711-952d-483e794ef3f7",
   "metadata": {},
   "source": [
    "Ergänzen Sie die orthographischen Varianzen"
   ]
  },
  {
   "cell_type": "code",
   "execution_count": 13,
   "id": "710c3ce2-8ec4-4413-8613-941d53e037e1",
   "metadata": {},
   "outputs": [
    {
     "data": {
      "text/plain": [
       "[['bestetige', 'bestätige'],\n",
       " ['Artzney', 'Arznei'],\n",
       " ['jhre', 'ihre'],\n",
       " ['Wirckung', 'Wirkung'],\n",
       " ['vollnbringen', 'vollbringen'],\n",
       " ['Krafft', 'Kraft']]"
      ]
     },
     "execution_count": 13,
     "metadata": {},
     "output_type": "execute_result"
    }
   ],
   "source": [
    "import re\n",
    "\n",
    "ortho = \"bestetige bestätige Artzney Arznei jhre ihre Wirckung Wirkung vollnbringen vollbringen Krafft Kraft vnnd und superman super man super-man\"\n",
    "\n",
    "regex_patterns = [\n",
    "    r\"best[e|ä]tige\",\n",
    "    r\"Art?zne[y|i]\",\n",
    "    r\"[j|i]hre\",\n",
    "    r\"Wirc?kung\",\n",
    "    r\"volln?bringen\",\n",
    "    r\"Kraff?t\"\n",
    "]\n",
    "\n",
    "# Findet die Matches im Text\n",
    "matches = [re.findall(pattern, ortho) for pattern in regex_patterns]\n",
    "matches"
   ]
  },
  {
   "cell_type": "markdown",
   "id": "b7c37907-12d7-4ef8-a7b7-6f956fdf67a2",
   "metadata": {},
   "source": [
    "## Datumsangaben suchen"
   ]
  },
  {
   "cell_type": "markdown",
   "id": "0886b3a9-9d85-4aa1-b309-e37a063919c0",
   "metadata": {},
   "source": [
    "Suchen Sie nach allen Datumsangaben, die dem Muster DD.MM.JJJJ entsprechen"
   ]
  },
  {
   "cell_type": "code",
   "execution_count": 14,
   "id": "a953cc88-a0ac-4436-83f4-458558921f6e",
   "metadata": {},
   "outputs": [
    {
     "name": "stdout",
     "output_type": "stream",
     "text": [
      "[['', '', '', '', '', '', '', '', '', '', '', '', '', '', '', '', '', '', '', '', '', '', '', '', '', '', '', '', '', '', '', '', '', '', '', '', '', '', '', '', '', '', '', '', '', '', '', '', '', '', '', '', '', '', '', '', '', '', '', '', '', '', '', '', '', '', '', '', '', '', '', '', '', '', '', '', '', '', '', '', '', '', '', '', '', '', '', '', '', '', '', '', '', '', '', '', '', '', '', '', '', '', '', '', '', '', '', '', '', '', '', '']]\n"
     ]
    }
   ],
   "source": [
    "datumsangaben = \"1.08.2013 20.06.1998, 11.09.1776, 07. Juli 2020, 20.01.88, 13. Februar 1972, 22.11.2018, 99.12.2018, 30.04.1917\"\n",
    "tagMonatJahr = [re.findall(r\"\", datumsangaben )]\n",
    "print(tagMonatJahr)"
   ]
  },
  {
   "cell_type": "code",
   "execution_count": 15,
   "id": "01d6d9e6-2bd7-42ca-b2aa-cc9902c00832",
   "metadata": {},
   "outputs": [
    {
     "data": {
      "text/plain": [
       "['20.06.1998', '22.11.2018', '30.04.1917']"
      ]
     },
     "execution_count": 15,
     "metadata": {},
     "output_type": "execute_result"
    }
   ],
   "source": [
    "datumsangaben = \"1.08.2013 20.06.1998, 11.09.1776, 07. Juli 2020, 20.01.88, 13. Februar 1972, 22.11.2018, 99.12.2018, 30.04.1917\"\n",
    "\n",
    "# Pattern, um alle korrekten Datierungen zu finden, die dem Muster DD.MM.JJJJ entsprechen.\n",
    "pattern = r\"(3[01]|[12][0-9]).\\d{2}.(19|20)\\d{2}\"\n",
    "\n",
    "volles_datum = [m.group(0) for m in re.finditer(pattern, datumsangaben)]\n",
    "volles_datum"
   ]
  }
 ],
 "metadata": {
  "kernelspec": {
   "display_name": "Python 3 (ipykernel)",
   "language": "python",
   "name": "python3"
  },
  "language_info": {
   "codemirror_mode": {
    "name": "ipython",
    "version": 3
   },
   "file_extension": ".py",
   "mimetype": "text/x-python",
   "name": "python",
   "nbconvert_exporter": "python",
   "pygments_lexer": "ipython3",
   "version": "3.10.9"
  }
 },
 "nbformat": 4,
 "nbformat_minor": 5
}
