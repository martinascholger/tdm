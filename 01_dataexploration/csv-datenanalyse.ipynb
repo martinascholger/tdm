{
 "cells": [
  {
   "cell_type": "markdown",
   "id": "2d48fced-b612-42a5-a01e-715bc8d390e2",
   "metadata": {},
   "source": [
    "## Explorative Datenanalyse (EDA) - Tabellen"
   ]
  },
  {
   "attachments": {},
   "cell_type": "markdown",
   "id": "acbda282-a734-4e33-a84a-81c7265bf70e",
   "metadata": {},
   "source": [
    "Der Begriff \"Explorative Datenanalyse\" (Explorative Data Analysis: EDA) wird dem Mathematiker John Tukey zugeschrieben. Er charakteristiert EDA als Methode zur Exploration von Datensammlungen unter Verwendung von einfacher Statistik und grafischer Repräsentation um Muster und Regelmäßigkeiten zu entdecken. \n",
    "\n",
    "“This is my favourite part about analytics: Taking boring flat data and bringing it to life through visualization “- John Tukey'\n",
    "\n",
    "Ziele: \n",
    "* neue Perspektiven eröffnen\n",
    "* Einblicke gewinnen\n",
    "* Hypothesen formulieren\n",
    "\n",
    "Techniken:\n",
    "* Plotten von Rohdaten\n",
    "* Einfache Statistiken\n",
    "\n",
    "Typen von Daten:\n",
    "* Bilddaten (z.B. Postkarten)\n",
    "* Audiodaten (z.B. Interviews)\n",
    "* Textdaten (z.B. TEI kodierte Dramen)\n",
    "* Tabellarische Daten (z.B. Metadaten)"
   ]
  },
  {
   "cell_type": "markdown",
   "id": "23a9f7a3",
   "metadata": {},
   "source": [
    "### Datenset\n",
    "\n",
    "Das Datenset, das wir untersuchen, ist *Feeding America: The Historic American Cookbook*. Das Datenset, bestehend aus 76 Kochbüchern, wurde von der Michigan State University Libraries Special Collections zusammengestellt und präsentiert eine repräsentative Auswahl der kulinarischen Geschichte der USA. Das Datenset umfasst einen Zeitraum von 1796 bis 1922. Kochbücher geben uns einen guten Einblick in die wirtschaftliche und soziale Landschaft einer Kultur.  \n",
    "\n",
    "**Fragestellungen:**\n",
    "* Welche Zutaten sind aus der Mode gekommen?\n",
    "* Welche Zutaten sind im 19. Jahrhundert populär geworden? \n",
    "* Kann der Einfluss von Einwanderung im Datenset beobachtet werden?  \n",
    "\n",
    "Das ursprüngliche Datenset besteht aus 76 XML kodierten Dateien, in denen \"recipe type\", \"ingredients\", \"measurements\" und \"cooking implements\" kodiert sind. "
   ]
  },
  {
   "cell_type": "markdown",
   "id": "48eee766",
   "metadata": {},
   "source": [
    "### Analyse von Feeding America\n",
    "\n",
    "Die bekannteste Python Bibliothek für die Manipulation und Analyse von tabellarischen Daten ist Pandas (Python Data Analysis Library). Die Bibliothek ist sehr gut geeignet für die explorative Datenanalyse. Zunächst muss Pandas über `pip install pandas` installiert und danach importiert werden. "
   ]
  },
  {
   "cell_type": "code",
   "execution_count": null,
   "id": "17b50083",
   "metadata": {},
   "outputs": [],
   "source": [
    "#Pandas über alias importieren\n",
    "import pandas as pd "
   ]
  },
  {
   "cell_type": "markdown",
   "id": "576defec",
   "metadata": {},
   "source": [
    "Daten über die Funktion `pandas.read_csv()` einlesen. Die Funktion braucht einen Textstring als Argument, der den Pfad zur Datei \"feeding-america.csv\" enthält. Die Funktion liefert ein so genanntes DataFrame zurück, das aus Spalten und Zeilen besteht. Das Dataframe wird in der Variable `df` gespeichert. Die Methode `head()`zeigt uns die ersten fünf Zeilen. "
   ]
  },
  {
   "cell_type": "code",
   "execution_count": null,
   "id": "cfef3ea8",
   "metadata": {},
   "outputs": [],
   "source": [
    "df = pd.read_csv(\"data/feeding-america.csv\", index_col='date') \n",
    "df = df.fillna(0)\n",
    "df.head(5)"
   ]
  },
  {
   "cell_type": "markdown",
   "id": "6c29ea4b-bff1-4a47-add1-59e8b030e15e",
   "metadata": {},
   "source": [
    "Jede Zeile in dem Dataset repräsentiert ein Rezept aus einem der 76 Kochbücher und enthält unterschiedliche Kategorien. "
   ]
  },
  {
   "cell_type": "markdown",
   "id": "a7ff0af9",
   "metadata": {},
   "source": [
    "Zunächst starten wir mit Basisstatistiken: \n",
    "1) Anzahl der Rezepte in der Textsammlung über die Funktion `len()`. Die Funktion len() ist eine built-in Funktion um die Länge bzw. Größe von unterschiedlichen Typen auszugeben, z.B. Textstrings, Listen, etc."
   ]
  },
  {
   "cell_type": "code",
   "execution_count": null,
   "id": "accb6b60-4687-4c4e-b6ce-90b516ccb25d",
   "metadata": {},
   "outputs": [],
   "source": [
    "print(len(df))"
   ]
  },
  {
   "cell_type": "markdown",
   "id": "47a3113a-c741-4f48-a1f2-c5c540c82ba8",
   "metadata": {},
   "source": [
    "2. Die Datei ist in unterschiedliche Rezeptklassen unterteilt, z.B. soups, sweets, vegetable dishes. Um eine Übersicht über alle Kategorien zu bekommen, greifen wir auf die Spalte `recipe_class` zu. "
   ]
  },
  {
   "cell_type": "code",
   "execution_count": null,
   "id": "24414de4-7440-4a4d-aec0-3653872e51e8",
   "metadata": {
    "scrolled": true
   },
   "outputs": [],
   "source": []
  },
  {
   "cell_type": "markdown",
   "id": "67f60c75",
   "metadata": {},
   "source": [
    "Über die Methode `unique()` geben wir nur noch die eindeutigen Klassen zurück. "
   ]
  },
  {
   "cell_type": "code",
   "execution_count": null,
   "id": "065fd1fa",
   "metadata": {},
   "outputs": [],
   "source": []
  },
  {
   "cell_type": "markdown",
   "id": "b8e07098-a797-454d-9caf-183005193ac9",
   "metadata": {},
   "source": [
    "Um die Frequenz der Verteilung der Klassen zu ermitteln, verwenden wir die Methode `value_counts()`. "
   ]
  },
  {
   "cell_type": "code",
   "execution_count": null,
   "id": "f27887db-4614-4363-b687-b739a3fb25c9",
   "metadata": {
    "scrolled": true
   },
   "outputs": [],
   "source": []
  },
  {
   "cell_type": "code",
   "execution_count": null,
   "id": "ba2acf3f-355f-495f-8dfe-219df8181b5d",
   "metadata": {
    "scrolled": false
   },
   "outputs": [],
   "source": [
    "df['recipe_class'].value_counts().plot(kind='bar', width=0.1)   "
   ]
  },
  {
   "cell_type": "markdown",
   "id": "3e929307",
   "metadata": {},
   "source": [
    "Wie können wir die Farben der Bars verändern? "
   ]
  },
  {
   "cell_type": "code",
   "execution_count": null,
   "id": "68ab2ef4",
   "metadata": {},
   "outputs": [],
   "source": []
  },
  {
   "cell_type": "markdown",
   "id": "6a385737",
   "metadata": {},
   "source": [
    "Matplotlib ist eine Bibliothek zur Erstellung statischer, interaktiver und animierter Visualisierungen. Die Bibliothek wird für eine Vielzahl von Diagrammen und Plots verwendet, z.B. \n",
    "* Line plots\n",
    "* Scatter plots\n",
    "* Bar charts and histograms\n",
    "* Pie charts\n",
    "* Error bars\n",
    "* Box plots\n",
    "* Heatmaps\n",
    "\n",
    "Dokumentation zu Matplotlib: https://matplotlib.org/stable/ "
   ]
  },
  {
   "cell_type": "code",
   "execution_count": null,
   "id": "ccbe6810-04c7-4d8d-bba0-f1eb76f792e6",
   "metadata": {},
   "outputs": [],
   "source": [
    "import matplotlib.pyplot as plt"
   ]
  },
  {
   "cell_type": "markdown",
   "id": "9ef9c0a0",
   "metadata": {},
   "source": [
    "Die Methode `groupby()` gruppiert zunächst alle Zeilen aus demselben Jahr in separate DataFrames. Die Größe der Gruppe - in unserem Fall die Anzahl der Rezepte in einem bestimmten Jahr - wird durch die Methode `size()` ermittelt. Schließlich wird die Anzahl über den Aufruf von `plot()` visualisiert. Der Style 'o' gibt Punkte aus. Mehr dazu unter https://matplotlib.org/stable/api/_as_gen/matplotlib.pyplot.plot.html "
   ]
  },
  {
   "cell_type": "code",
   "execution_count": null,
   "id": "7cf19ed9-2ebb-4465-81d4-a4daadea4deb",
   "metadata": {
    "scrolled": true
   },
   "outputs": [],
   "source": [
    "grouped = df.groupby('date')\n",
    "recipe_counts = grouped.size()\n",
    "recipe_counts.plot(style='o', xlim=(1810, 1930))\n",
    "\n",
    "# Wie fügen wir labels hinzu (x- und y-Achse)"
   ]
  },
  {
   "cell_type": "markdown",
   "id": "fa160b69",
   "metadata": {},
   "source": [
    "### Kulinarische Trends ermitteln"
   ]
  },
  {
   "cell_type": "markdown",
   "id": "abbcdf09-4111-4659-8f38-3e799a90002e",
   "metadata": {},
   "source": [
    "Um zu ermittlen, welche Trends es in der Verwendung von Zutaten gegeben hat, müssen wir zunächst die Zutaten in Listen splitten. Diese werden. Diese werden in der Spalte 'ingredients' angegeben und durch ein Semikolon getrennt. Zur Erinnerung lassen wir uns zunächst die ersten zehn Zeilen ausgeben."
   ]
  },
  {
   "cell_type": "code",
   "execution_count": null,
   "id": "92514af7",
   "metadata": {},
   "outputs": [],
   "source": []
  },
  {
   "cell_type": "markdown",
   "id": "97d5f0fa",
   "metadata": {},
   "source": [
    "Wie ermitteln wir die erste Zeile aus dem DataFrame? "
   ]
  },
  {
   "cell_type": "code",
   "execution_count": null,
   "id": "b5dc4e55",
   "metadata": {},
   "outputs": [],
   "source": []
  },
  {
   "cell_type": "code",
   "execution_count": null,
   "id": "2f22e2c4-bf80-4697-9a81-fbf74be3f0e2",
   "metadata": {},
   "outputs": [],
   "source": [
    "ingredients = df['ingredients'].str.split(';')"
   ]
  },
  {
   "cell_type": "markdown",
   "id": "74fbda4f-ba06-4f6f-9113-2c88a2e89829",
   "metadata": {},
   "source": [
    "Gruppieren aller Zeilen derselben Jahre:"
   ]
  },
  {
   "cell_type": "code",
   "execution_count": null,
   "id": "38499e34-7b92-49a4-99ad-08985ae3965f",
   "metadata": {},
   "outputs": [],
   "source": [
    "groups = ingredients.groupby('date')"
   ]
  },
  {
   "cell_type": "markdown",
   "id": "26f64c14-9035-43f7-b998-8102eb8d6b93",
   "metadata": {},
   "source": [
    "Führt die Listen aus einem Jahr zusammen: "
   ]
  },
  {
   "cell_type": "code",
   "execution_count": null,
   "id": "c0d1c3f0-c4e4-4808-bba6-f41021fcc614",
   "metadata": {},
   "outputs": [],
   "source": [
    "ingredients = groups.sum()"
   ]
  },
  {
   "cell_type": "markdown",
   "id": "8d75c2e3-7483-4191-8a3b-0b229d2bb091",
   "metadata": {},
   "source": [
    "Berechnet die Häufigkeitsverteilungen pro Jahr:"
   ]
  },
  {
   "cell_type": "code",
   "execution_count": null,
   "id": "7e457cec-84ec-4074-9464-b080f3f759ad",
   "metadata": {},
   "outputs": [],
   "source": [
    "ingredients = ingredients.apply(pd.Series.value_counts)"
   ]
  },
  {
   "cell_type": "markdown",
   "id": "b1641a04-e30e-426c-9bdf-b973c350b0e7",
   "metadata": {},
   "source": [
    "Normalisiert die Zahlen indem jede Zutatenzahl durch die Anzahl der Rezepte pro Jahr geteilt wird:"
   ]
  },
  {
   "cell_type": "code",
   "execution_count": null,
   "id": "60fa0a85-2f84-4b7f-9dea-a53954aaeee0",
   "metadata": {},
   "outputs": [],
   "source": [
    "ingredients = ingredients.divide(recipe_counts, 0)"
   ]
  },
  {
   "cell_type": "markdown",
   "id": "b2c25417",
   "metadata": {},
   "source": [
    "Das daraus resultierende DataFrame besteht aus Zeilen, die ein bestimmtes Jahr in der Sammlung repräsentieren. Die Spalten repräsentieren die individuellen Zutaten. "
   ]
  },
  {
   "cell_type": "code",
   "execution_count": null,
   "id": "59dd2d61-6fb1-4359-8aea-b8719e4b2959",
   "metadata": {
    "scrolled": true
   },
   "outputs": [],
   "source": [
    "ingredients.head()"
   ]
  },
  {
   "cell_type": "code",
   "execution_count": null,
   "id": "9483662a",
   "metadata": {},
   "outputs": [],
   "source": [
    "df.ingredients.unique()"
   ]
  },
  {
   "cell_type": "code",
   "execution_count": null,
   "id": "218a445c-bca6-428c-9e15-144ee7207e0a",
   "metadata": {},
   "outputs": [],
   "source": [
    "column_names = ingredients.columns.tolist()\n",
    "print(column_names)"
   ]
  },
  {
   "cell_type": "code",
   "execution_count": null,
   "id": "723fd596-7f1f-41b7-9110-8f5b4dc55b5b",
   "metadata": {
    "scrolled": true
   },
   "outputs": [],
   "source": [
    "ax = ingredients['tomato'].plot(style='o', xlim=(1810,1930))\n",
    "ax.set_ylabel(\"Anteil der Zutat in Rezepten\")\n",
    "ax.set_xlabel(\"Veröffentlichungsjahr\")\n",
    "ax.legend()"
   ]
  },
  {
   "cell_type": "code",
   "execution_count": null,
   "id": "733cdd95-156c-44be-b16f-bac43b40872c",
   "metadata": {},
   "outputs": [],
   "source": [
    "ax = ingredients['tomato'].plot(style='o', xlim=(1810,1930), label='Tomato')\n",
    "ingredients['avocado'].plot(style='x', label='Avocado') \n",
    "ingredients['lemon'].plot(style='s', label='Lemon')\n",
    "ax.set_ylabel(\"fraction of recipes\")\n",
    "ax.set_xlabel(\"year of publication\")\n",
    "ax.legend()"
   ]
  },
  {
   "cell_type": "code",
   "execution_count": null,
   "id": "d8ce508d",
   "metadata": {},
   "outputs": [],
   "source": [
    "import scipy.stats\n",
    "def plot_trend(column, df, line_color='grey', xlim=(1810, 1930)):\n",
    "    slope, intercept, _, _, _ = scipy.stats.linregress(\n",
    "        df.index, df[column].fillna(0).values)\n",
    "    ax = df[column].plot(style='o', label=column)\n",
    "    ax.plot(\n",
    "        df.index,\n",
    "        intercept + slope * df.index,\n",
    "        '--',\n",
    "        color=line_color,\n",
    "        label='_nolengend_')\n",
    "    ax.set_ylabel(\"fraction of recipes\")\n",
    "    ax.set_xlabel(\"year of publication\")\n",
    "    ax.set_xlim(xlim)\n",
    "\n",
    "    \n",
    "plot_trend('yeast', ingredients)\n",
    "plot_trend('baking powder', ingredients)\n",
    "plot_trend('tomato', ingredients)"
   ]
  },
  {
   "cell_type": "markdown",
   "id": "534d6ca4",
   "metadata": {},
   "source": [
    "Das Beispiel basiert auf Karsdorp, F.; Kestement, M.; Riddell, R. (2021): Humanities Data Analysis. Case Studies with Python.  "
   ]
  },
  {
   "cell_type": "code",
   "execution_count": null,
   "id": "dcff9623",
   "metadata": {},
   "outputs": [],
   "source": []
  }
 ],
 "metadata": {
  "kernelspec": {
   "display_name": "Python 3 (ipykernel)",
   "language": "python",
   "name": "python3"
  },
  "language_info": {
   "codemirror_mode": {
    "name": "ipython",
    "version": 3
   },
   "file_extension": ".py",
   "mimetype": "text/x-python",
   "name": "python",
   "nbconvert_exporter": "python",
   "pygments_lexer": "ipython3",
   "version": "3.10.9"
  }
 },
 "nbformat": 4,
 "nbformat_minor": 5
}
