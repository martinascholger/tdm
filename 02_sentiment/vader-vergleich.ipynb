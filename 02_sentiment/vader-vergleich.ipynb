{
 "cells": [
  {
   "cell_type": "markdown",
   "metadata": {},
   "source": [
    "# Sentimentanalyse mit Vader II\n",
    "\n"
   ]
  },
  {
   "cell_type": "markdown",
   "metadata": {},
   "source": [
    "### Import"
   ]
  },
  {
   "cell_type": "code",
   "execution_count": null,
   "metadata": {},
   "outputs": [],
   "source": [
    "import pandas as pd"
   ]
  },
  {
   "cell_type": "markdown",
   "metadata": {},
   "source": [
    "### Download mit NLTK\n",
    "(muss nur einmal gemacht werden)"
   ]
  },
  {
   "cell_type": "code",
   "execution_count": null,
   "metadata": {},
   "outputs": [],
   "source": [
    "import nltk\n",
    "nltk.download('vader_lexicon')"
   ]
  },
  {
   "cell_type": "markdown",
   "metadata": {},
   "source": [
    "### Importieren\n",
    "\n",
    "[NLTK sentiment examples](http://www.nltk.org/howto/sentiment.html)"
   ]
  },
  {
   "cell_type": "code",
   "execution_count": null,
   "metadata": {},
   "outputs": [],
   "source": [
    "from nltk.sentiment.vader import SentimentIntensityAnalyzer"
   ]
  },
  {
   "cell_type": "markdown",
   "metadata": {},
   "source": [
    "### Sentiment analyzer instanziieren"
   ]
  },
  {
   "cell_type": "code",
   "execution_count": null,
   "metadata": {},
   "outputs": [],
   "source": [
    "sentiment_analyzer = SentimentIntensityAnalyzer()"
   ]
  },
  {
   "cell_type": "code",
   "execution_count": null,
   "metadata": {},
   "outputs": [],
   "source": [
    "sentiment_analyzer.lexicon"
   ]
  },
  {
   "cell_type": "code",
   "execution_count": null,
   "metadata": {},
   "outputs": [],
   "source": [
    "sentiment_analyzer.lexicon[\"happy\"]"
   ]
  },
  {
   "cell_type": "code",
   "execution_count": null,
   "metadata": {
    "scrolled": true
   },
   "outputs": [],
   "source": [
    "sentiment_analyzer.lexicon[\"challenging\"]"
   ]
  },
  {
   "cell_type": "markdown",
   "metadata": {},
   "source": [
    "Wir verwenden die Methode `polarity_scores`, die uns die Kategorien\n",
    "* negativ\n",
    "* positiv\n",
    "* neutral\n",
    "* compound \n",
    "\n",
    "zurückliefert. Der `compound score` ist die Summe aus positiven, negativen und neutralen Scores, die dann zwischen -1 (sehr negativ) und +1 (sehr positiv) normalisiert werden. "
   ]
  },
  {
   "cell_type": "code",
   "execution_count": null,
   "metadata": {},
   "outputs": [],
   "source": [
    "sentiment = sentiment_analyzer.polarity_scores(\"This is very bad.\")\n",
    "sentiment"
   ]
  },
  {
   "cell_type": "markdown",
   "metadata": {},
   "source": [
    "### Beispiele"
   ]
  },
  {
   "cell_type": "code",
   "execution_count": null,
   "metadata": {
    "scrolled": false
   },
   "outputs": [],
   "source": [
    "sentiment = sentiment_analyzer.polarity_scores(\"This is very bad!\")\n",
    "sentiment"
   ]
  },
  {
   "cell_type": "code",
   "execution_count": null,
   "metadata": {},
   "outputs": [],
   "source": [
    "sentiment = sentiment_analyzer.polarity_scores(\"This is very bad :( \")\n",
    "sentiment"
   ]
  },
  {
   "cell_type": "code",
   "execution_count": null,
   "metadata": {
    "scrolled": true
   },
   "outputs": [],
   "source": [
    "sentiment = sentiment_analyzer.polarity_scores(\"Profoundly deep, genuinely moving, utterly hilarious, highly imaginative and a visual feast.\")\n",
    "sentiment"
   ]
  },
  {
   "cell_type": "markdown",
   "metadata": {},
   "source": [
    "### Kommentare laden\n",
    "Wir laden ein gepickeltes pandas DataFrame. Dabei handelt es sich um ein binäres Dateiformat, das nicht mit einem einfachen Texteditor gelesen werden kann. Die Dateigröße wird jedoch durch die Komprimierung verringert, und im Vergleich zu .csv-Dateien ist es besser für Text geeignet. Reddit ist ein Social-News-Aggregator, eine Website, auf der registrierte Benutzer:innen Inhalte einstellen bzw. anbieten können."
   ]
  },
  {
   "cell_type": "code",
   "execution_count": null,
   "metadata": {},
   "outputs": [],
   "source": [
    "df = pd.read_csv('archive/data.csv', delimiter=',', header=None, encoding='latin-1')"
   ]
  },
  {
   "cell_type": "code",
   "execution_count": null,
   "metadata": {},
   "outputs": [],
   "source": [
    "\n",
    "\n",
    "df = pd.read_csv('archive/data.csv', delimiter=',')\n",
    "df.head(10)\n",
    "\n"
   ]
  },
  {
   "cell_type": "code",
   "execution_count": null,
   "metadata": {
    "scrolled": false
   },
   "outputs": [],
   "source": [
    "df['Sentiment'].value_counts()"
   ]
  },
  {
   "cell_type": "code",
   "execution_count": null,
   "metadata": {
    "scrolled": true
   },
   "outputs": [],
   "source": [
    "def sentiment_scores(dataframe):\n",
    "    sid_obj = SentimentIntensityAnalyzer()\n",
    "    \n",
    "    dataframe['compound'] = dataframe['Sentence'].apply(lambda x: sid_obj.polarity_scores(x)['compound'])\n",
    "    \n",
    "    def get_sentiment(compound):\n",
    "        if compound >= 0.05:\n",
    "            return \"positive\"\n",
    "        elif compound <= -0.05:\n",
    "            return \"negative\"\n",
    "        else:\n",
    "            return \"neutral\"\n",
    "        \n",
    "    dataframe['vader_sentiment'] = dataframe['compound'].apply(get_sentiment)\n",
    "    return dataframe\n",
    "\n",
    "df = sentiment_scores(df)\n",
    "\n",
    "df.head(10)"
   ]
  },
  {
   "cell_type": "code",
   "execution_count": null,
   "metadata": {},
   "outputs": [],
   "source": [
    "from sklearn.metrics import accuracy_score, precision_score, recall_score, f1_score"
   ]
  },
  {
   "cell_type": "code",
   "execution_count": null,
   "metadata": {},
   "outputs": [],
   "source": [
    "accuracy = accuracy_score(df['Sentiment'], df['vader_sentiment'])\n",
    "precision = precision_score(df['Sentiment'], df['vader_sentiment'], average='macro')\n",
    "recall = recall_score(df['Sentiment'], df['vader_sentiment'], average='macro')\n",
    "f1 = f1_score(df['Sentiment'], df['vader_sentiment'], average='macro')\n",
    "\n",
    "print(f\"Vader accuracy: {accuracy}\")\n",
    "print(f\"vader precision: {precision}\")\n",
    "print(f\"Vader recall: {recall}\")\n",
    "print(f\"Vader F1 Score: {f1}\")"
   ]
  },
  {
   "cell_type": "code",
   "execution_count": null,
   "metadata": {},
   "outputs": [],
   "source": [
    "import pandas as pd\n",
    "import seaborn as sns\n",
    "import matplotlib.pyplot as plt\n",
    "\n",
    "# Assuming df is your DataFrame\n",
    "\n",
    "# Create a long-format DataFrame for easier plotting with seaborn\n",
    "long_format = pd.concat([\n",
    "    df['Sentiment'].value_counts().rename('count').reset_index().assign(column='Sentiment'),\n",
    "    df['vader_sentiment'].value_counts().rename('count').reset_index().assign(column='Vader Sentiment')\n",
    "])\n",
    "\n",
    "# Plotting\n",
    "plt.figure(figsize=(8, 6))\n",
    "sns.barplot(x='index', y='count', hue='column', data=long_format)\n",
    "plt.xlabel('Kategorie')\n",
    "plt.ylabel('Gesamtzählung')\n",
    "plt.title('Vergleich zwischen den originalen Sentiments und den Vader Sentiments')\n",
    "plt.show()\n"
   ]
  }
 ],
 "metadata": {
  "kernelspec": {
   "display_name": "Python 3 (ipykernel)",
   "language": "python",
   "name": "python3"
  },
  "language_info": {
   "codemirror_mode": {
    "name": "ipython",
    "version": 3
   },
   "file_extension": ".py",
   "mimetype": "text/x-python",
   "name": "python",
   "nbconvert_exporter": "python",
   "pygments_lexer": "ipython3",
   "version": "3.10.9"
  }
 },
 "nbformat": 4,
 "nbformat_minor": 4
}
